{
  "nbformat": 4,
  "nbformat_minor": 0,
  "metadata": {
    "colab": {
      "provenance": [],
      "gpuType": "T4"
    },
    "kernelspec": {
      "name": "python3",
      "display_name": "Python 3"
    },
    "language_info": {
      "name": "python"
    },
    "accelerator": "GPU"
  },
  "cells": [
    {
      "cell_type": "markdown",
      "source": [
        "###Mathematical functions"
      ],
      "metadata": {
        "id": "m_n3AiHdnReX"
      }
    },
    {
      "cell_type": "code",
      "source": [
        "import torch"
      ],
      "metadata": {
        "id": "b6xmjqBDnVal"
      },
      "execution_count": 1,
      "outputs": []
    },
    {
      "cell_type": "code",
      "source": [
        "#@title Basic math functions\n",
        "a=torch.tensor([10,2,8,6,4])\n",
        "b=torch.tensor([1,2,4,3,1])\n",
        "print('adding tensors and b:',a.add(b))\n",
        "print('multiplying tensors and b:',a.mul(b))\n",
        "print('dividing tensors and b:',a.div(b))"
      ],
      "metadata": {
        "colab": {
          "base_uri": "https://localhost:8080/"
        },
        "id": "DCReKTnRnbDG",
        "outputId": "294904b0-424f-4781-aaf5-947a8dcbfed7"
      },
      "execution_count": 2,
      "outputs": [
        {
          "output_type": "stream",
          "name": "stdout",
          "text": [
            "adding tensors and b: tensor([11,  4, 12,  9,  5])\n",
            "multiplying tensors and b: tensor([10,  4, 32, 18,  4])\n",
            "dividing tensors and b: tensor([10.,  1.,  2.,  2.,  4.])\n"
          ]
        }
      ]
    },
    {
      "cell_type": "code",
      "source": [
        "#@title Reduction functions\n",
        "c = torch.tensor([[20., 14., 11., 8.], [3., 19., 14., 6.]])\n",
        "print('Mean of the tensor c:',torch.mean(c))\n",
        "print('Median of the tensor c:',torch.median(c))\n",
        "print('Mode of the tensor c:',torch.mode(c))\n",
        "print('Standard deviation of the tensor c:',torch.std(c))"
      ],
      "metadata": {
        "colab": {
          "base_uri": "https://localhost:8080/"
        },
        "id": "LRV-6auIqF1z",
        "outputId": "530d2b0e-8516-4b1b-806f-6027f913686e"
      },
      "execution_count": 3,
      "outputs": [
        {
          "output_type": "stream",
          "name": "stdout",
          "text": [
            "Mean of the tensor c: tensor(11.8750)\n",
            "Median of the tensor c: tensor(11.)\n",
            "Mode of the tensor c: torch.return_types.mode(\n",
            "values=tensor([8., 3.]),\n",
            "indices=tensor([3, 0]))\n",
            "Standard deviation of the tensor c: tensor(6.0341)\n"
          ]
        }
      ]
    }
  ]
}