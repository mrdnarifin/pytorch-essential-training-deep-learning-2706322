{
  "nbformat": 4,
  "nbformat_minor": 0,
  "metadata": {
    "colab": {
      "provenance": [],
      "gpuType": "T4"
    },
    "kernelspec": {
      "name": "python3",
      "display_name": "Python 3"
    },
    "language_info": {
      "name": "python"
    },
    "accelerator": "GPU"
  },
  "cells": [
    {
      "cell_type": "markdown",
      "source": [
        "### Creating tensors from random samples"
      ],
      "metadata": {
        "id": "o459a9X7l9oc"
      }
    },
    {
      "cell_type": "code",
      "execution_count": 1,
      "metadata": {
        "id": "C8-mePkCjaIY"
      },
      "outputs": [],
      "source": [
        "import torch"
      ]
    },
    {
      "cell_type": "code",
      "source": [
        "#@title torch.rand() selects random values from a uniform distribution on the interval [0-1]\n",
        "torch.manual_seed(111)\n",
        "torch.rand(3, 3)"
      ],
      "metadata": {
        "colab": {
          "base_uri": "https://localhost:8080/"
        },
        "id": "SOyxzkDSkF76",
        "outputId": "77b6a76d-29cc-427e-ceac-25b18f1dd613"
      },
      "execution_count": 2,
      "outputs": [
        {
          "output_type": "execute_result",
          "data": {
            "text/plain": [
              "tensor([[0.7156, 0.9140, 0.2819],\n",
              "        [0.2581, 0.6311, 0.6001],\n",
              "        [0.9312, 0.2153, 0.6033]])"
            ]
          },
          "metadata": {},
          "execution_count": 2
        }
      ]
    },
    {
      "cell_type": "code",
      "source": [
        "#@title torch.rand() selects random values from a standard normal distribution\n",
        "\n",
        "torch.rand(4,4)"
      ],
      "metadata": {
        "colab": {
          "base_uri": "https://localhost:8080/"
        },
        "id": "AoGi2EscmOMh",
        "outputId": "59361afe-51ff-4524-fc57-2874bf74ceb8"
      },
      "execution_count": 3,
      "outputs": [
        {
          "output_type": "execute_result",
          "data": {
            "text/plain": [
              "tensor([[0.7328, 0.1857, 0.5101, 0.7545],\n",
              "        [0.2884, 0.5775, 0.0358, 0.1026],\n",
              "        [0.3419, 0.4400, 0.6341, 0.6224],\n",
              "        [0.6334, 0.8580, 0.1572, 0.7853]])"
            ]
          },
          "metadata": {},
          "execution_count": 3
        }
      ]
    },
    {
      "cell_type": "code",
      "source": [
        "#@title torch.randint() selects random integers generated uniformly between specified low and high values\n",
        "\n",
        "torch.randint(-1, 10, (3, 3))"
      ],
      "metadata": {
        "colab": {
          "base_uri": "https://localhost:8080/"
        },
        "id": "ExYtaTg3qv4M",
        "outputId": "62a11c37-9413-410f-c725-c6c6df0c5c64"
      },
      "execution_count": 4,
      "outputs": [
        {
          "output_type": "execute_result",
          "data": {
            "text/plain": [
              "tensor([[1, 0, 1],\n",
              "        [5, 3, 1],\n",
              "        [6, 7, 6]])"
            ]
          },
          "metadata": {},
          "execution_count": 4
        }
      ]
    }
  ]
}