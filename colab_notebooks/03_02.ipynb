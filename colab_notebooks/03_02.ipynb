{
  "nbformat": 4,
  "nbformat_minor": 0,
  "metadata": {
    "colab": {
      "provenance": [],
      "gpuType": "T4"
    },
    "kernelspec": {
      "name": "python3",
      "display_name": "Python 3"
    },
    "language_info": {
      "name": "python"
    },
    "accelerator": "GPU"
  },
  "cells": [
    {
      "cell_type": "markdown",
      "source": [
        "### Tensor attributes"
      ],
      "metadata": {
        "id": "YJCM67w5ssfw"
      }
    },
    {
      "cell_type": "markdown",
      "source": [
        "knowing device location, datatype, dimension, and rank is very important"
      ],
      "metadata": {
        "id": "cwhpun8UdPqs"
      }
    },
    {
      "cell_type": "code",
      "source": [
        "import torch"
      ],
      "metadata": {
        "id": "LbnjrrhFA24A"
      },
      "execution_count": 4,
      "outputs": []
    },
    {
      "cell_type": "code",
      "source": [
        "first_tensor = torch.tensor([1,2,3,4,5,6])"
      ],
      "metadata": {
        "id": "h6d-t1CMLbLw"
      },
      "execution_count": 5,
      "outputs": []
    },
    {
      "cell_type": "markdown",
      "source": [
        "torch.device indicates the tensor’s device location"
      ],
      "metadata": {
        "id": "WoCfL-ntdf-Z"
      }
    },
    {
      "cell_type": "code",
      "source": [
        "first_tensor.device"
      ],
      "metadata": {
        "colab": {
          "base_uri": "https://localhost:8080/"
        },
        "id": "lTDKJljiLirH",
        "outputId": "c957b3c5-3b7e-4ceb-87ca-a0610ffc2cf6"
      },
      "execution_count": 6,
      "outputs": [
        {
          "output_type": "execute_result",
          "data": {
            "text/plain": [
              "device(type='cpu')"
            ]
          },
          "metadata": {},
          "execution_count": 6
        }
      ]
    },
    {
      "cell_type": "markdown",
      "source": [
        "torch.dtype indicates the tensor’s data type"
      ],
      "metadata": {
        "id": "FMtYA5deeTta"
      }
    },
    {
      "cell_type": "code",
      "source": [
        "first_tensor.dtype"
      ],
      "metadata": {
        "colab": {
          "base_uri": "https://localhost:8080/"
        },
        "id": "G7ar3paeLk05",
        "outputId": "2dcb016e-8b60-49b1-dd62-2a6198ec46b5"
      },
      "execution_count": 7,
      "outputs": [
        {
          "output_type": "execute_result",
          "data": {
            "text/plain": [
              "torch.int64"
            ]
          },
          "metadata": {},
          "execution_count": 7
        }
      ]
    },
    {
      "cell_type": "markdown",
      "source": [
        "torch.shape shows the tensor’s dimensions"
      ],
      "metadata": {
        "id": "Ob3uj0xpeHhD"
      }
    },
    {
      "cell_type": "code",
      "source": [
        "first_tensor.shape"
      ],
      "metadata": {
        "colab": {
          "base_uri": "https://localhost:8080/"
        },
        "id": "jwdM8h3hPXpu",
        "outputId": "80f19abb-7a3b-48fa-c7b3-94d4bbca7b93"
      },
      "execution_count": 8,
      "outputs": [
        {
          "output_type": "execute_result",
          "data": {
            "text/plain": [
              "torch.Size([6])"
            ]
          },
          "metadata": {},
          "execution_count": 8
        }
      ]
    },
    {
      "cell_type": "markdown",
      "source": [
        "torch.ndim identifies the number of a tensor’s dimensions or rank"
      ],
      "metadata": {
        "id": "C3pNTrzulDll"
      }
    },
    {
      "cell_type": "code",
      "source": [
        "first_tensor.ndim"
      ],
      "metadata": {
        "colab": {
          "base_uri": "https://localhost:8080/"
        },
        "id": "GvzFekF2RLoF",
        "outputId": "a2259055-bd3f-4c52-d1c6-7c537b1498cf"
      },
      "execution_count": 9,
      "outputs": [
        {
          "output_type": "execute_result",
          "data": {
            "text/plain": [
              "1"
            ]
          },
          "metadata": {},
          "execution_count": 9
        }
      ]
    },
    {
      "cell_type": "code",
      "source": [
        "second_tensor = torch.tensor([[1,2,3],[4,5,6],[7,8,9]])"
      ],
      "metadata": {
        "id": "2XrKx86hAv1Z"
      },
      "execution_count": 10,
      "outputs": []
    },
    {
      "cell_type": "code",
      "source": [
        "second_tensor.dtype"
      ],
      "metadata": {
        "colab": {
          "base_uri": "https://localhost:8080/"
        },
        "id": "8RofI1qjFlij",
        "outputId": "7c36064c-930b-4aaa-90b9-dcfc6cd04701"
      },
      "execution_count": 11,
      "outputs": [
        {
          "output_type": "execute_result",
          "data": {
            "text/plain": [
              "torch.int64"
            ]
          },
          "metadata": {},
          "execution_count": 11
        }
      ]
    },
    {
      "cell_type": "code",
      "source": [
        "second_tensor.shape"
      ],
      "metadata": {
        "colab": {
          "base_uri": "https://localhost:8080/"
        },
        "id": "UHTj7eIwTbX5",
        "outputId": "03255cd2-f4c0-41ac-bb64-9112d1a36414"
      },
      "execution_count": 12,
      "outputs": [
        {
          "output_type": "execute_result",
          "data": {
            "text/plain": [
              "torch.Size([3, 3])"
            ]
          },
          "metadata": {},
          "execution_count": 12
        }
      ]
    },
    {
      "cell_type": "code",
      "source": [
        "second_tensor.ndim"
      ],
      "metadata": {
        "colab": {
          "base_uri": "https://localhost:8080/"
        },
        "id": "sY8jR60xTjAS",
        "outputId": "03284eb3-6d26-41d6-de78-d165f6ae2839"
      },
      "execution_count": 13,
      "outputs": [
        {
          "output_type": "execute_result",
          "data": {
            "text/plain": [
              "2"
            ]
          },
          "metadata": {},
          "execution_count": 13
        }
      ]
    },
    {
      "cell_type": "markdown",
      "source": [
        "many valuable functions to access attributes, e.g. requires_grad"
      ],
      "metadata": {
        "id": "qYpHvzhykyXe"
      }
    }
  ]
}