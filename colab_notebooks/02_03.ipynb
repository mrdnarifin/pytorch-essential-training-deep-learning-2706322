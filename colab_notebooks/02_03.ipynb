{
  "nbformat": 4,
  "nbformat_minor": 0,
  "metadata": {
    "colab": {
      "provenance": [],
      "gpuType": "T4"
    },
    "kernelspec": {
      "name": "python3",
      "display_name": "Python 3"
    },
    "language_info": {
      "name": "python"
    },
    "accelerator": "GPU"
  },
  "cells": [
    {
      "cell_type": "markdown",
      "source": [
        "### Creating tensors GPU example"
      ],
      "metadata": {
        "id": "gv3d-4OU7ted"
      }
    },
    {
      "cell_type": "code",
      "source": [
        "import torch\n",
        "print(torch.__version__)"
      ],
      "metadata": {
        "colab": {
          "base_uri": "https://localhost:8080/"
        },
        "id": "n21bo2DS92Ff",
        "outputId": "80e59bbe-59d4-4c03-8856-f111f881202b"
      },
      "execution_count": 1,
      "outputs": [
        {
          "output_type": "stream",
          "name": "stdout",
          "text": [
            "2.5.1+cu124\n"
          ]
        }
      ]
    },
    {
      "cell_type": "code",
      "source": [
        "if torch.cuda.is_available(): device = \"cuda\"\n",
        "else: device = \"cpu\"\n",
        "print(device)"
      ],
      "metadata": {
        "colab": {
          "base_uri": "https://localhost:8080/"
        },
        "id": "lc7g0gq6-KtN",
        "outputId": "23b20e52-5859-42c5-cbb4-ff4ac3ed5ca1"
      },
      "execution_count": 2,
      "outputs": [
        {
          "output_type": "stream",
          "name": "stdout",
          "text": [
            "cuda\n"
          ]
        }
      ]
    },
    {
      "cell_type": "code",
      "source": [
        "tens_a = torch.tensor([[10,11,12,13],[14,15,16,17]],device=device)\n",
        "tens_b = torch.tensor([[18,19,20,21],[22,23,24,25]],device=device)\n",
        "multi_tens = tens_a * tens_b\n",
        "print(multi_tens)"
      ],
      "metadata": {
        "id": "lQyu0dZd-QH_",
        "outputId": "75528866-b6e5-4ad7-e90b-d397f14b19a0",
        "colab": {
          "base_uri": "https://localhost:8080/"
        }
      },
      "execution_count": 3,
      "outputs": [
        {
          "output_type": "stream",
          "name": "stdout",
          "text": [
            "tensor([[180, 209, 240, 273],\n",
            "        [308, 345, 384, 425]], device='cuda:0')\n"
          ]
        }
      ]
    },
    {
      "cell_type": "code",
      "source": [],
      "metadata": {
        "id": "U3KJJ1q4Wc3C"
      },
      "execution_count": null,
      "outputs": []
    }
  ]
}