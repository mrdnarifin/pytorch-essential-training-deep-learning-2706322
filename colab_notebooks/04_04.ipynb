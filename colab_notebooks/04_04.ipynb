{
  "nbformat": 4,
  "nbformat_minor": 0,
  "metadata": {
    "colab": {
      "provenance": [],
      "gpuType": "T4"
    },
    "kernelspec": {
      "name": "python3",
      "display_name": "Python 3"
    },
    "language_info": {
      "name": "python"
    },
    "accelerator": "GPU"
  },
  "cells": [
    {
      "cell_type": "markdown",
      "source": [
        "###Automatic Differentiation (Autograd)"
      ],
      "metadata": {
        "id": "SWRK5Zsms0tt"
      }
    },
    {
      "cell_type": "code",
      "execution_count": 1,
      "metadata": {
        "id": "9nLqGX8Gs6HG"
      },
      "outputs": [],
      "source": [
        "import torch"
      ]
    },
    {
      "cell_type": "code",
      "source": [
        "#@title Define tensors\n",
        "x = torch.autograd.Variable(torch.Tensor([2]),requires_grad=True)\n",
        "y = torch.autograd.Variable(torch.Tensor([1]),requires_grad=True)\n",
        "z = torch.autograd.Variable(torch.Tensor([5]),requires_grad=True)"
      ],
      "metadata": {
        "id": "omgQHGlrDPsy"
      },
      "execution_count": 2,
      "outputs": []
    },
    {
      "cell_type": "code",
      "source": [
        "#@title Compute gradients\n",
        "# compute a\n",
        "a = x - y\n",
        "\n",
        "# define the function f\n",
        "f = z * a\n",
        "print(\"Final value for Function f = \",f)\n",
        "#Compute gradients\n",
        "\n",
        "\n",
        "f.backward()\n",
        "#Print the gradient value\n",
        "print(\"Gradient value for x:\",x.grad)\n",
        "print(\"Gradient value for y:\",y.grad)\n",
        "print(\"Gradient value for z:\",z.grad)"
      ],
      "metadata": {
        "colab": {
          "base_uri": "https://localhost:8080/"
        },
        "id": "UY33pazCDukP",
        "outputId": "a5b5395d-91b8-41f5-a3ab-ff543dc278b4"
      },
      "execution_count": 3,
      "outputs": [
        {
          "output_type": "stream",
          "name": "stdout",
          "text": [
            "Final value for Function f =  tensor([5.], grad_fn=<MulBackward0>)\n",
            "Gradient value for x: tensor([5.])\n",
            "Gradient value for y: tensor([-5.])\n",
            "Gradient value for z: tensor([1.])\n"
          ]
        }
      ]
    }
  ]
}