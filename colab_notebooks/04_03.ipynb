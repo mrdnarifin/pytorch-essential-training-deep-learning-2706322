{
  "nbformat": 4,
  "nbformat_minor": 0,
  "metadata": {
    "colab": {
      "provenance": [],
      "gpuType": "T4"
    },
    "kernelspec": {
      "name": "python3",
      "display_name": "Python 3"
    },
    "language_info": {
      "name": "python"
    },
    "accelerator": "GPU"
  },
  "cells": [
    {
      "cell_type": "markdown",
      "source": [
        "###Linear algebra operations"
      ],
      "metadata": {
        "id": "Tnpj4lJnIqO2"
      }
    },
    {
      "cell_type": "markdown",
      "source": [
        "PyTorch has a module called torch.linalg that contains a set of built-in linear algebra functions that are based on BLAS and LAPACK standardized libraries."
      ],
      "metadata": {
        "id": "eUhFjfhOfmZR"
      }
    },
    {
      "cell_type": "code",
      "source": [
        "import torch"
      ],
      "metadata": {
        "id": "QmVbijCGIsI8"
      },
      "execution_count": 1,
      "outputs": []
    },
    {
      "cell_type": "code",
      "source": [
        "#@title Compute the dot product (scalar) of two 1d tensors\n",
        "first_tensor = torch.tensor([1,2,3])\n",
        "second_tensor = torch.tensor([4,5,6])\n",
        "\n",
        "dot_product = torch.matmul(first_tensor,second_tensor)\n",
        "dot_product"
      ],
      "metadata": {
        "colab": {
          "base_uri": "https://localhost:8080/"
        },
        "id": "IcYnQasjmWVk",
        "outputId": "8a57b5ad-830e-4963-ba03-54b99008b222"
      },
      "execution_count": 2,
      "outputs": [
        {
          "output_type": "execute_result",
          "data": {
            "text/plain": [
              "tensor(32)"
            ]
          },
          "metadata": {},
          "execution_count": 2
        }
      ]
    },
    {
      "cell_type": "code",
      "source": [
        "#@title Compute the matrix-matrix product (2D tensor) of two 2d tensors\n",
        "first_2d_tensor = torch.tensor([[1,2,3],[-1,-2,-3]])\n",
        "second_2d_tensor = torch.tensor([[-1,-2],[4,5],[4,5]])\n",
        "\n",
        "result_2d_tensor = torch.matmul(first_2d_tensor, second_2d_tensor)\n",
        "result_2d_tensor"
      ],
      "metadata": {
        "colab": {
          "base_uri": "https://localhost:8080/"
        },
        "id": "w2ldK_TZJm9f",
        "outputId": "16820b39-b01d-4ab8-fb75-9176175feeca"
      },
      "execution_count": 3,
      "outputs": [
        {
          "output_type": "execute_result",
          "data": {
            "text/plain": [
              "tensor([[ 19,  23],\n",
              "        [-19, -23]])"
            ]
          },
          "metadata": {},
          "execution_count": 3
        }
      ]
    },
    {
      "cell_type": "code",
      "source": [
        "#@title  Compute the a matrix product of 5 2d tensors\n",
        "first_ten = torch.randn(2, 3)\n",
        "second_ten = torch.randn(3, 4)\n",
        "third_ten = torch.randn(4, 5)\n",
        "fourth_ten = torch.randn(5, 6)\n",
        "fifth_ten = torch.randn(6, 7)\n",
        "torch.linalg.multi_dot((first_ten,second_ten,third_ten,fourth_ten,fifth_ten))"
      ],
      "metadata": {
        "colab": {
          "base_uri": "https://localhost:8080/"
        },
        "id": "iQAVJcyaReC_",
        "outputId": "a48f447a-7c76-48fa-a7ed-625b064dbaff"
      },
      "execution_count": 4,
      "outputs": [
        {
          "output_type": "execute_result",
          "data": {
            "text/plain": [
              "tensor([[ 15.4731,  -8.7944, -17.2742, -26.7593,  22.8997,  -4.0765,  11.6166],\n",
              "        [-12.4211,  -8.3689,  18.6722, -34.4375,   4.0279, -38.8300, -38.1925]])"
            ]
          },
          "metadata": {},
          "execution_count": 4
        }
      ]
    },
    {
      "cell_type": "code",
      "source": [
        "#@title Computing eigenvalues and eigenvectors\n",
        "# create a 3x3 square matrix\n",
        "A = torch.randn(4,4)\n",
        "\n",
        "# print the above created matrix\n",
        "print(\"Matrix:\", A)\n",
        "\n",
        "# compute the Eigen values and vectors of the matrix\n",
        "eigenvalues, eigenvectors = torch.linalg.eig(A)\n",
        "\n",
        "print(\"Eigen Values:\", eigenvalues)\n",
        "print(\"Eigen Vectors:\", eigenvectors)"
      ],
      "metadata": {
        "id": "Mq3cMigkTEjp",
        "outputId": "4ce64c13-86d3-430d-b1ee-bc0ede1e02a0",
        "colab": {
          "base_uri": "https://localhost:8080/"
        }
      },
      "execution_count": 5,
      "outputs": [
        {
          "output_type": "stream",
          "name": "stdout",
          "text": [
            "Matrix: tensor([[ 0.3566,  1.1002,  1.1874,  2.3475],\n",
            "        [ 0.0936, -1.4489,  1.8845, -1.2600],\n",
            "        [-0.2981,  1.8897, -0.3229,  2.2123],\n",
            "        [ 1.6338, -0.2169,  0.3896, -1.2798]])\n",
            "Eigen Values: tensor([-3.6397+0.j, -1.6222+0.j,  2.1072+0.j,  0.4597+0.j])\n",
            "Eigen Vectors: tensor([[-0.1847+0.j,  0.2787+0.j,  0.8358+0.j,  0.5127+0.j],\n",
            "        [ 0.7070+0.j,  0.7840+0.j,  0.0406+0.j, -0.6249+0.j],\n",
            "        [-0.6159+0.j, -0.3652+0.j,  0.3281+0.j, -0.3344+0.j],\n",
            "        [ 0.2945+0.j, -0.4176+0.j,  0.4383+0.j,  0.4846+0.j]])\n"
          ]
        }
      ]
    }
  ]
}