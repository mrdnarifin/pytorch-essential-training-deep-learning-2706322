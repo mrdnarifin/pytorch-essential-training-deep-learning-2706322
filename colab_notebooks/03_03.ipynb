{
  "nbformat": 4,
  "nbformat_minor": 0,
  "metadata": {
    "colab": {
      "provenance": [],
      "gpuType": "T4"
    },
    "kernelspec": {
      "name": "python3",
      "display_name": "Python 3"
    },
    "language_info": {
      "name": "python"
    },
    "accelerator": "GPU"
  },
  "cells": [
    {
      "cell_type": "markdown",
      "source": [
        "### Tensor data types"
      ],
      "metadata": {
        "id": "zuF3OhhtX2z5"
      }
    },
    {
      "cell_type": "code",
      "source": [
        "import torch"
      ],
      "metadata": {
        "id": "CwMoTk95IQqu"
      },
      "execution_count": 1,
      "outputs": []
    },
    {
      "cell_type": "code",
      "source": [
        "#@title Integer data type tensor\n",
        "int_tensor= torch.tensor([1,2,3,4,5],dtype=torch.int8)\n",
        "int_tensor.dtype"
      ],
      "metadata": {
        "colab": {
          "base_uri": "https://localhost:8080/"
        },
        "id": "P_C8BGobIslX",
        "outputId": "0bac5c0a-d0eb-4aea-e357-c995b8c8b6e8"
      },
      "execution_count": 2,
      "outputs": [
        {
          "output_type": "execute_result",
          "data": {
            "text/plain": [
              "torch.int8"
            ]
          },
          "metadata": {},
          "execution_count": 2
        }
      ]
    },
    {
      "cell_type": "code",
      "source": [
        "#@title Float data type tensor\n",
        "float_tensor= torch.tensor([6,7,8,9,10], dtype=torch.float32)\n",
        "float_tensor.dtype"
      ],
      "metadata": {
        "colab": {
          "base_uri": "https://localhost:8080/"
        },
        "id": "Knc8eUAKS2uv",
        "outputId": "7bba4f19-c960-43be-f9e4-21f51d663159"
      },
      "execution_count": 3,
      "outputs": [
        {
          "output_type": "execute_result",
          "data": {
            "text/plain": [
              "torch.float32"
            ]
          },
          "metadata": {},
          "execution_count": 3
        }
      ]
    },
    {
      "cell_type": "code",
      "source": [
        "#@title Short data type tensor\n",
        "short_tensor= torch.tensor([6,7,8,9,10], dtype=torch.int16)\n",
        "short_tensor.dtype"
      ],
      "metadata": {
        "colab": {
          "base_uri": "https://localhost:8080/"
        },
        "id": "6CvQrnZvUIr0",
        "outputId": "952b83f2-84b4-4857-9704-1a79b538c152"
      },
      "execution_count": 4,
      "outputs": [
        {
          "output_type": "execute_result",
          "data": {
            "text/plain": [
              "torch.int16"
            ]
          },
          "metadata": {},
          "execution_count": 4
        }
      ]
    },
    {
      "cell_type": "code",
      "source": [
        "#@title Casting a tensor to a new data type (1st way)\n",
        "int_tensor= int_tensor.float()\n",
        "int_tensor.dtype"
      ],
      "metadata": {
        "colab": {
          "base_uri": "https://localhost:8080/"
        },
        "id": "hlfoyGilWFJ_",
        "outputId": "c303918a-c20a-4ba1-a4f2-507897d24503"
      },
      "execution_count": 5,
      "outputs": [
        {
          "output_type": "execute_result",
          "data": {
            "text/plain": [
              "torch.float32"
            ]
          },
          "metadata": {},
          "execution_count": 5
        }
      ]
    },
    {
      "cell_type": "code",
      "source": [
        "#@title Casting a tensor to a new data type (2nd way)\n",
        "last_tensor = short_tensor.to(dtype=torch.int8)\n",
        "last_tensor.dtype"
      ],
      "metadata": {
        "colab": {
          "base_uri": "https://localhost:8080/"
        },
        "id": "U4hnlaO7WZ2c",
        "outputId": "7c33b6c1-85f3-4a91-e0fb-ff386edd8d0c"
      },
      "execution_count": 6,
      "outputs": [
        {
          "output_type": "execute_result",
          "data": {
            "text/plain": [
              "torch.int8"
            ]
          },
          "metadata": {},
          "execution_count": 6
        }
      ]
    }
  ]
}