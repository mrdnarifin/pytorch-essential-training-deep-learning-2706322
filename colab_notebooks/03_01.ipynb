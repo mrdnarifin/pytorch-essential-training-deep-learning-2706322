{
  "nbformat": 4,
  "nbformat_minor": 0,
  "metadata": {
    "colab": {
      "provenance": [],
      "gpuType": "T4"
    },
    "kernelspec": {
      "name": "python3",
      "display_name": "Python 3"
    },
    "language_info": {
      "name": "python"
    },
    "accelerator": "GPU"
  },
  "cells": [
    {
      "cell_type": "markdown",
      "source": [
        "### Different ways to create tensors"
      ],
      "metadata": {
        "id": "IZqFiLLP6Q9f"
      }
    },
    {
      "cell_type": "code",
      "source": [
        "import torch\n",
        "import numpy as np"
      ],
      "metadata": {
        "id": "umd7jPIdZ0DV"
      },
      "execution_count": 1,
      "outputs": []
    },
    {
      "cell_type": "code",
      "source": [
        "# initialize a tensor from a Python list\n",
        "tensor_from_list=torch.tensor([1,2,3,4,5])\n",
        "# initialize a tensor from a tuple\n",
        "tensor_from_tuple=torch.tensor((6,7,8,9,10))\n",
        "print(\"Tensor from list:\",tensor_from_list)\n",
        "print(\"Tensor from tuple:\",tensor_from_tuple)"
      ],
      "metadata": {
        "colab": {
          "base_uri": "https://localhost:8080/"
        },
        "id": "zb1bVLtYbYNj",
        "outputId": "40d4735f-50af-4cb1-8f29-dbe7c9d877a9"
      },
      "execution_count": 2,
      "outputs": [
        {
          "output_type": "stream",
          "name": "stdout",
          "text": [
            "Tensor from list: tensor([1, 2, 3, 4, 5])\n",
            "Tensor from tuple: tensor([ 6,  7,  8,  9, 10])\n"
          ]
        }
      ]
    },
    {
      "cell_type": "code",
      "source": [
        "# initialize a tensor from a ndarray\n",
        "tensor_from_array=torch.tensor(np.array([11,12,13,14,15]))\n",
        "print(\"Tensor from array:\",tensor_from_array)"
      ],
      "metadata": {
        "colab": {
          "base_uri": "https://localhost:8080/"
        },
        "id": "19SW4IVddwGF",
        "outputId": "95478bd7-033a-4795-b975-7af2fcc65c44"
      },
      "execution_count": 3,
      "outputs": [
        {
          "output_type": "stream",
          "name": "stdout",
          "text": [
            "Tensor from array: tensor([11, 12, 13, 14, 15])\n"
          ]
        }
      ]
    },
    {
      "cell_type": "markdown",
      "source": [
        "#### Different functions for creating tensors:\n",
        "##### torch.empty(), torch.ones(), and torch.zeros()"
      ],
      "metadata": {
        "id": "WKqZezHA8JqY"
      }
    },
    {
      "cell_type": "code",
      "source": [
        "tensor_emp = torch.empty(3,4)\n",
        "print(\"tensor_emp :\",tensor_emp)\n",
        "tensor_zeros = torch.zeros(3,4)\n",
        "print(\"tensor_zeros :\",tensor_zeros)\n",
        "tensor_ones= torch.ones(3,4)\n",
        "print(\"tensor_ones :\",tensor_ones)"
      ],
      "metadata": {
        "id": "9sN85Sa8oN2F",
        "colab": {
          "base_uri": "https://localhost:8080/"
        },
        "outputId": "06e944e9-1a8b-4960-c45b-cea9c5b0ba01"
      },
      "execution_count": 4,
      "outputs": [
        {
          "output_type": "stream",
          "name": "stdout",
          "text": [
            "tensor_emp : tensor([[1.3895e-38, 0.0000e+00, 4.9529e+14, 4.5546e-41],\n",
            "        [1.5080e-38, 0.0000e+00, 5.6018e+14, 4.5546e-41],\n",
            "        [4.9525e+14, 4.5546e-41, 5.6018e+14, 4.5546e-41]])\n",
            "tensor_zeros : tensor([[0., 0., 0., 0.],\n",
            "        [0., 0., 0., 0.],\n",
            "        [0., 0., 0., 0.]])\n",
            "tensor_ones : tensor([[1., 1., 1., 1.],\n",
            "        [1., 1., 1., 1.],\n",
            "        [1., 1., 1., 1.]])\n"
          ]
        }
      ]
    },
    {
      "cell_type": "code",
      "source": [
        "# tensors initialized by size with random values\n",
        "# returns a tensor filled with random numbers from a uniform distribution\n",
        "tensor_rand_un = torch.rand(4,5)\n",
        "print(\"tensor_rand_un :\",tensor_rand_un)\n",
        "# returns a tensor filled with random numbers from a normal distribution\n",
        "tensor_rand_norm = torch.randn(4,5)\n",
        "print(\"tensor_rand_norm :\",tensor_rand_norm)\n",
        "# returns a tensor filled with random integers generated uniformly\n",
        "tensor_rand_int = torch.randint(5,10,(4,5))\n",
        "print(\"tensor_rand_int :\",tensor_rand_int)"
      ],
      "metadata": {
        "id": "uEPf9V0vtBgG",
        "colab": {
          "base_uri": "https://localhost:8080/"
        },
        "outputId": "cc1c0112-3c43-4aee-a89b-ae7ef852da52"
      },
      "execution_count": 5,
      "outputs": [
        {
          "output_type": "stream",
          "name": "stdout",
          "text": [
            "tensor_rand_un : tensor([[0.3150, 0.8176, 0.5795, 0.5791, 0.0891],\n",
            "        [0.7771, 0.0949, 0.4990, 0.6006, 0.6950],\n",
            "        [0.8841, 0.4579, 0.5832, 0.5046, 0.6724],\n",
            "        [0.7007, 0.2872, 0.2067, 0.7469, 0.6068]])\n",
            "tensor_rand_norm : tensor([[ 0.8740,  0.2251, -0.4464, -1.1952,  0.0813],\n",
            "        [ 0.7229,  0.0047,  0.9722,  0.6932, -1.3836],\n",
            "        [ 0.0785,  1.0777, -0.4627, -0.7630, -0.6834],\n",
            "        [-0.4512,  0.0593, -0.7067, -1.7719, -0.0314]])\n",
            "tensor_rand_int : tensor([[6, 9, 5, 7, 9],\n",
            "        [6, 6, 8, 9, 5],\n",
            "        [8, 7, 9, 9, 9],\n",
            "        [8, 9, 9, 6, 7]])\n"
          ]
        }
      ]
    },
    {
      "cell_type": "code",
      "source": [
        "# initialize a tensor of ones\n",
        "tensor_ones = torch.ones_like(tensor_rand_int)\n",
        "print(tensor_ones)"
      ],
      "metadata": {
        "colab": {
          "base_uri": "https://localhost:8080/"
        },
        "id": "X3vWpA0hrYxR",
        "outputId": "095d9a70-892d-44e1-f663-61f451b7cb20"
      },
      "execution_count": 8,
      "outputs": [
        {
          "output_type": "stream",
          "name": "stdout",
          "text": [
            "tensor([[1, 1, 1, 1, 1],\n",
            "        [1, 1, 1, 1, 1],\n",
            "        [1, 1, 1, 1, 1],\n",
            "        [1, 1, 1, 1, 1]])\n"
          ]
        }
      ]
    },
    {
      "cell_type": "code",
      "source": [],
      "metadata": {
        "id": "ihGlOmyQXwMG"
      },
      "execution_count": null,
      "outputs": []
    }
  ]
}