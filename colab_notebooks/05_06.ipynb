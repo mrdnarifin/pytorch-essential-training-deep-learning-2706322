{
  "nbformat": 4,
  "nbformat_minor": 0,
  "metadata": {
    "colab": {
      "provenance": [],
      "gpuType": "T4"
    },
    "kernelspec": {
      "name": "python3",
      "display_name": "Python 3"
    },
    "language_info": {
      "name": "python"
    },
    "accelerator": "GPU"
  },
  "cells": [
    {
      "cell_type": "markdown",
      "source": [
        "### Model development and training"
      ],
      "metadata": {
        "id": "oFV87anb1Ak7"
      }
    },
    {
      "cell_type": "code",
      "source": [
        "#@title Import libraries and dataset\n",
        "import torch\n",
        "from torchvision import transforms\n",
        "from torchvision.datasets import CIFAR10\n",
        "from torch.utils.data import DataLoader\n",
        "from torchvision import models\n",
        "from torch import optim\n",
        "import torch.nn as nn\n",
        "import torch.optim as optim\n",
        "import torch.nn.functional as F"
      ],
      "metadata": {
        "id": "yvnX-iUEuFho"
      },
      "execution_count": 1,
      "outputs": []
    },
    {
      "cell_type": "code",
      "source": [
        "#@title Define neural network, __init__ and forward functions\n",
        "class Net(nn.Module):\n",
        "    def __init__(self):\n",
        "        super(Net, self).__init__()\n",
        "        self.conv1 = nn.Conv2d(3, 6, 5)\n",
        "        self.pool = nn.MaxPool2d(2, 2)\n",
        "        self.conv2 = nn.Conv2d(6, 16, 5)\n",
        "        self.fc1 = nn.Linear(16 * 5 * 5, 120)\n",
        "        self.fc2 = nn.Linear(120, 84)\n",
        "        self.fc3 = nn.Linear(84, 10)\n",
        "\n",
        "    def forward(self, x):\n",
        "        x = self.pool(F.relu(self.conv1(x)))\n",
        "        x = self.pool(F.relu(self.conv2(x)))\n",
        "        x = x.view(-1, 16 * 5 * 5)\n",
        "        x = F.relu(self.fc1(x))\n",
        "        x = F.relu(self.fc2(x))\n",
        "        x = self.fc3(x)\n",
        "        return x\n"
      ],
      "metadata": {
        "id": "w12ZM2FFzaxq"
      },
      "execution_count": 2,
      "outputs": []
    },
    {
      "cell_type": "code",
      "source": [
        "#@title Instantiate the Model\n",
        "net = Net()\n",
        "\n",
        "# define the Loss Function and Optimizer\n",
        "criterion = nn.CrossEntropyLoss()\n",
        "optimizer = optim.SGD(net.parameters(), lr=0.001, momentum=0.9)"
      ],
      "metadata": {
        "id": "7W6oOG68UVe0"
      },
      "execution_count": 3,
      "outputs": []
    },
    {
      "cell_type": "code",
      "source": [
        "#@title Load and transform the data\n",
        "transform = transforms.Compose(\n",
        "    [transforms.ToTensor(),\n",
        "     transforms.Normalize((0.5, 0.5, 0.5), (0.5, 0.5, 0.5))])\n",
        "\n",
        "trainset = CIFAR10(root='./data', train=True,\n",
        "                                        download=True, transform=transform)\n",
        "trainloader = torch.utils.data.DataLoader(trainset, batch_size=4,\n",
        "                                          shuffle=True, num_workers=2)\n",
        "\n",
        "testset = CIFAR10(root='./data', train=False,\n",
        "                                       download=True, transform=transform)\n",
        "testloader = torch.utils.data.DataLoader(testset, batch_size=4,\n",
        "                                         shuffle=False, num_workers=2)"
      ],
      "metadata": {
        "id": "PMu5nUyhUcXs",
        "outputId": "fc9cdd73-c9e6-4932-bdcc-ce93ae4146e6",
        "colab": {
          "base_uri": "https://localhost:8080/"
        }
      },
      "execution_count": 4,
      "outputs": [
        {
          "output_type": "stream",
          "name": "stdout",
          "text": [
            "Downloading https://www.cs.toronto.edu/~kriz/cifar-10-python.tar.gz to ./data/cifar-10-python.tar.gz\n"
          ]
        },
        {
          "output_type": "stream",
          "name": "stderr",
          "text": [
            "100%|██████████| 170M/170M [00:06<00:00, 28.2MB/s]\n"
          ]
        },
        {
          "output_type": "stream",
          "name": "stdout",
          "text": [
            "Extracting ./data/cifar-10-python.tar.gz to ./data\n",
            "Files already downloaded and verified\n"
          ]
        }
      ]
    },
    {
      "cell_type": "code",
      "source": [
        "#@title Train the network\n",
        "for epoch in range(10):  # loop over the dataset multiple times\n",
        "    running_loss = 0.0\n",
        "    for i, data in enumerate(trainloader, 0):\n",
        "        # get the inputs; data is a tuple of [inputs, labels]\n",
        "        inputs, labels = data\n",
        "\n",
        "        # zero the parameter gradients\n",
        "        optimizer.zero_grad()\n",
        "\n",
        "        # forward + backward + optimize\n",
        "        outputs = net(inputs)\n",
        "        loss = criterion(outputs, labels)\n",
        "        loss.backward()\n",
        "        optimizer.step()\n",
        "\n",
        "        # print statistics\n",
        "        running_loss += loss.item()\n",
        "        if i % 2000 == 1999:    # print every 2000 mini-batches\n",
        "            print(f'[{epoch + 1}, {i + 1:5d}] loss: {running_loss / 2000:.3f}')\n",
        "            running_loss = 0.0\n",
        "\n",
        "print('Finished Training')"
      ],
      "metadata": {
        "colab": {
          "base_uri": "https://localhost:8080/"
        },
        "id": "jTAwNt05Uotc",
        "outputId": "ac50277a-2d93-41eb-b2af-837f3266d9b8"
      },
      "execution_count": 5,
      "outputs": [
        {
          "output_type": "stream",
          "name": "stdout",
          "text": [
            "[1,  2000] loss: 2.209\n",
            "[1,  4000] loss: 1.852\n",
            "[1,  6000] loss: 1.676\n",
            "[1,  8000] loss: 1.564\n",
            "[1, 10000] loss: 1.513\n",
            "[1, 12000] loss: 1.461\n",
            "[2,  2000] loss: 1.375\n",
            "[2,  4000] loss: 1.371\n",
            "[2,  6000] loss: 1.335\n",
            "[2,  8000] loss: 1.311\n",
            "[2, 10000] loss: 1.298\n",
            "[2, 12000] loss: 1.256\n",
            "[3,  2000] loss: 1.203\n",
            "[3,  4000] loss: 1.212\n",
            "[3,  6000] loss: 1.210\n",
            "[3,  8000] loss: 1.176\n",
            "[3, 10000] loss: 1.170\n",
            "[3, 12000] loss: 1.154\n",
            "[4,  2000] loss: 1.079\n",
            "[4,  4000] loss: 1.117\n",
            "[4,  6000] loss: 1.091\n",
            "[4,  8000] loss: 1.092\n",
            "[4, 10000] loss: 1.106\n",
            "[4, 12000] loss: 1.066\n",
            "[5,  2000] loss: 1.002\n",
            "[5,  4000] loss: 1.021\n",
            "[5,  6000] loss: 1.035\n",
            "[5,  8000] loss: 1.036\n",
            "[5, 10000] loss: 1.011\n",
            "[5, 12000] loss: 1.016\n",
            "[6,  2000] loss: 0.929\n",
            "[6,  4000] loss: 0.959\n",
            "[6,  6000] loss: 0.968\n",
            "[6,  8000] loss: 1.001\n",
            "[6, 10000] loss: 0.979\n",
            "[6, 12000] loss: 0.963\n",
            "[7,  2000] loss: 0.895\n",
            "[7,  4000] loss: 0.913\n",
            "[7,  6000] loss: 0.911\n",
            "[7,  8000] loss: 0.915\n",
            "[7, 10000] loss: 0.949\n",
            "[7, 12000] loss: 0.928\n",
            "[8,  2000] loss: 0.838\n",
            "[8,  4000] loss: 0.857\n",
            "[8,  6000] loss: 0.877\n",
            "[8,  8000] loss: 0.899\n",
            "[8, 10000] loss: 0.893\n",
            "[8, 12000] loss: 0.908\n",
            "[9,  2000] loss: 0.805\n",
            "[9,  4000] loss: 0.847\n",
            "[9,  6000] loss: 0.824\n",
            "[9,  8000] loss: 0.844\n",
            "[9, 10000] loss: 0.866\n",
            "[9, 12000] loss: 0.880\n",
            "[10,  2000] loss: 0.772\n",
            "[10,  4000] loss: 0.811\n",
            "[10,  6000] loss: 0.805\n",
            "[10,  8000] loss: 0.807\n",
            "[10, 10000] loss: 0.845\n",
            "[10, 12000] loss: 0.848\n",
            "Finished Training\n"
          ]
        }
      ]
    }
  ]
}