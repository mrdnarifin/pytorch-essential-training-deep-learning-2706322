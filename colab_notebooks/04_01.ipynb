{
  "nbformat": 4,
  "nbformat_minor": 0,
  "metadata": {
    "colab": {
      "provenance": [],
      "gpuType": "T4"
    },
    "kernelspec": {
      "name": "python3",
      "display_name": "Python 3"
    },
    "language_info": {
      "name": "python"
    },
    "accelerator": "GPU"
  },
  "cells": [
    {
      "cell_type": "markdown",
      "source": [
        "###Tensor operations"
      ],
      "metadata": {
        "id": "bz2Z9CTFxp7M"
      }
    },
    {
      "cell_type": "code",
      "source": [
        "import torch"
      ],
      "metadata": {
        "id": "ma-A9KsVxn27"
      },
      "execution_count": 1,
      "outputs": []
    },
    {
      "cell_type": "code",
      "source": [
        "#@title Indexing 1-dim tensor example\n",
        "one_dim_tensor=torch.tensor([1,2,3,4,5,6,7,8])\n",
        "print(one_dim_tensor[2])\n",
        "print(one_dim_tensor[2].item())"
      ],
      "metadata": {
        "colab": {
          "base_uri": "https://localhost:8080/"
        },
        "id": "gtQZPetsv5EI",
        "outputId": "4ba4aaf2-b0da-4301-f2d1-1fdfadb18240"
      },
      "execution_count": 2,
      "outputs": [
        {
          "output_type": "stream",
          "name": "stdout",
          "text": [
            "tensor(3)\n",
            "3\n"
          ]
        }
      ]
    },
    {
      "cell_type": "code",
      "source": [
        "#@title Slicing 1-dim tensor example\n",
        "# [start:end:step]\n",
        "one_dim_tensor[1:4]"
      ],
      "metadata": {
        "colab": {
          "base_uri": "https://localhost:8080/"
        },
        "id": "3WLifjrYxc1M",
        "outputId": "1c24d4fb-d455-4e82-a3f1-8ca0498ab476"
      },
      "execution_count": 3,
      "outputs": [
        {
          "output_type": "execute_result",
          "data": {
            "text/plain": [
              "tensor([2, 3, 4])"
            ]
          },
          "metadata": {},
          "execution_count": 3
        }
      ]
    },
    {
      "cell_type": "markdown",
      "source": [],
      "metadata": {
        "id": "z8Oax1MmYRGb"
      }
    },
    {
      "cell_type": "code",
      "source": [
        "#@title Indexing 2-dim tensor example\n",
        "two_dim_tensor=torch.tensor([[1,2,3,4,5,6],[7,8,9,10,11,12],[13,14,15,16,17,18],[19,20,21,22,23,24]])\n",
        "two_dim_tensor[1][3]"
      ],
      "metadata": {
        "colab": {
          "base_uri": "https://localhost:8080/"
        },
        "id": "PFdhpxgC4fTs",
        "outputId": "fc117e04-60bc-41b5-de1f-dcb62cccc55e"
      },
      "execution_count": 4,
      "outputs": [
        {
          "output_type": "execute_result",
          "data": {
            "text/plain": [
              "tensor(10)"
            ]
          },
          "metadata": {},
          "execution_count": 4
        }
      ]
    },
    {
      "cell_type": "code",
      "source": [
        "#@title Slicing 2-dim tensor example\n",
        "print(\"first three elements of the 1st row: \",two_dim_tensor[0, 0:3])\n",
        "print(\"first four elements of the 2nd row: \",two_dim_tensor[1,0:4])"
      ],
      "metadata": {
        "colab": {
          "base_uri": "https://localhost:8080/"
        },
        "id": "j5LezuqT7ICW",
        "outputId": "aed149b5-8bc7-4b14-8d51-49806a9473ec"
      },
      "execution_count": 5,
      "outputs": [
        {
          "output_type": "stream",
          "name": "stdout",
          "text": [
            "first three elements of the 1st row:  tensor([1, 2, 3])\n",
            "first four elements of the 2nd row:  tensor([ 7,  8,  9, 10])\n"
          ]
        }
      ]
    },
    {
      "cell_type": "code",
      "source": [
        "#@title Use indexing to extract the data that meets some criteria\n",
        "two_dim_tensor[two_dim_tensor>6]"
      ],
      "metadata": {
        "colab": {
          "base_uri": "https://localhost:8080/"
        },
        "id": "-Zff8iPy7Pze",
        "outputId": "56f1e80f-b4e7-4287-d48c-36021532e129"
      },
      "execution_count": 7,
      "outputs": [
        {
          "output_type": "execute_result",
          "data": {
            "text/plain": [
              "tensor([ 7,  8,  9, 10, 11, 12, 13, 14, 15, 16, 17, 18, 19, 20, 21, 22, 23, 24])"
            ]
          },
          "metadata": {},
          "execution_count": 7
        }
      ]
    },
    {
      "cell_type": "code",
      "source": [
        "#@title Combining tensors\n",
        "torch.stack((two_dim_tensor, two_dim_tensor))"
      ],
      "metadata": {
        "colab": {
          "base_uri": "https://localhost:8080/"
        },
        "id": "qb2fPbKG9Nva",
        "outputId": "2ec61f41-36ff-4af2-84fa-36158c47d908"
      },
      "execution_count": 8,
      "outputs": [
        {
          "output_type": "execute_result",
          "data": {
            "text/plain": [
              "tensor([[[ 1,  2,  3,  4,  5,  6],\n",
              "         [ 7,  8,  9, 10, 11, 12],\n",
              "         [13, 14, 15, 16, 17, 18],\n",
              "         [19, 20, 21, 22, 23, 24]],\n",
              "\n",
              "        [[ 1,  2,  3,  4,  5,  6],\n",
              "         [ 7,  8,  9, 10, 11, 12],\n",
              "         [13, 14, 15, 16, 17, 18],\n",
              "         [19, 20, 21, 22, 23, 24]]])"
            ]
          },
          "metadata": {},
          "execution_count": 8
        }
      ]
    },
    {
      "cell_type": "code",
      "source": [
        "#@title Splitting tensors\n",
        "first_tensor, second_tensor, third_tensor, fourth_tensor=torch.unbind(two_dim_tensor)\n",
        "print(first_tensor, second_tensor, third_tensor, fourth_tensor)"
      ],
      "metadata": {
        "colab": {
          "base_uri": "https://localhost:8080/"
        },
        "id": "_aX0mJmV_DY-",
        "outputId": "ff3db890-428e-4cc0-dc2a-38bf4a470266"
      },
      "execution_count": null,
      "outputs": [
        {
          "output_type": "stream",
          "name": "stdout",
          "text": [
            "tensor([1, 2, 3, 4, 5, 6]) tensor([ 7,  8,  9, 10, 11, 12]) tensor([13, 14, 15, 16, 17, 18]) tensor([19, 20, 21, 22, 23, 24])\n"
          ]
        }
      ]
    },
    {
      "cell_type": "code",
      "source": [
        "#@title Splitting 2-dim tensor\n",
        "torch.unbind(two_dim_tensor,dim=1)"
      ],
      "metadata": {
        "colab": {
          "base_uri": "https://localhost:8080/"
        },
        "id": "QgPmqbMhBNDn",
        "outputId": "d42d20f0-b505-49af-ccb6-234c225fa4f2"
      },
      "execution_count": null,
      "outputs": [
        {
          "output_type": "execute_result",
          "data": {
            "text/plain": [
              "(tensor([ 1,  7, 13, 19]),\n",
              " tensor([ 2,  8, 14, 20]),\n",
              " tensor([ 3,  9, 15, 21]),\n",
              " tensor([ 4, 10, 16, 22]),\n",
              " tensor([ 5, 11, 17, 23]),\n",
              " tensor([ 6, 12, 18, 24]))"
            ]
          },
          "metadata": {},
          "execution_count": 15
        }
      ]
    }
  ]
}