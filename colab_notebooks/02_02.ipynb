{
  "nbformat": 4,
  "nbformat_minor": 0,
  "metadata": {
    "colab": {
      "provenance": [],
      "gpuType": "T4"
    },
    "kernelspec": {
      "name": "python3",
      "display_name": "Python 3"
    },
    "language_info": {
      "name": "python"
    },
    "accelerator": "GPU"
  },
  "cells": [
    {
      "cell_type": "markdown",
      "source": [
        "### Creating Tensor CPU example"
      ],
      "metadata": {
        "id": "TcEwzsgMEQ4C"
      }
    },
    {
      "cell_type": "code",
      "source": [
        "import torch\n",
        "\n",
        "first_tens = torch.tensor([[12,10,11,9],[13,15,14,16]])\n",
        "second_tens = torch.tensor([[1,2,3,4],[5,6,7,8]])\n",
        "\n",
        "add_tens = first_tens + second_tens\n",
        "print(add_tens)\n",
        "print(add_tens.size())"
      ],
      "metadata": {
        "colab": {
          "base_uri": "https://localhost:8080/"
        },
        "id": "AQskU5iBzD_K",
        "outputId": "6cb3b7ab-3ed6-4f3c-c551-8c7c3d4d0161"
      },
      "execution_count": 1,
      "outputs": [
        {
          "output_type": "stream",
          "name": "stdout",
          "text": [
            "tensor([[13, 12, 14, 13],\n",
            "        [18, 21, 21, 24]])\n",
            "torch.Size([2, 4])\n"
          ]
        }
      ]
    },
    {
      "cell_type": "code",
      "source": [
        "sub_tens = first_tens - second_tens\n",
        "print(sub_tens)\n",
        "print(sub_tens.size())"
      ],
      "metadata": {
        "colab": {
          "base_uri": "https://localhost:8080/"
        },
        "id": "dTFa3iRszeAO",
        "outputId": "423cdcc5-a98f-4d43-ba74-047f47bd0d38"
      },
      "execution_count": 2,
      "outputs": [
        {
          "output_type": "stream",
          "name": "stdout",
          "text": [
            "tensor([[11,  8,  8,  5],\n",
            "        [ 8,  9,  7,  8]])\n",
            "torch.Size([2, 4])\n"
          ]
        }
      ]
    },
    {
      "cell_type": "code",
      "source": [],
      "metadata": {
        "id": "G5s9en8nzmIB"
      },
      "execution_count": null,
      "outputs": []
    }
  ]
}